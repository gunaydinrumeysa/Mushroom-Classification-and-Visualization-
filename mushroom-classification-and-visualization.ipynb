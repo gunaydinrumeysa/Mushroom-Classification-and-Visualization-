{
 "cells": [
  {
   "cell_type": "markdown",
   "id": "0c100c4d",
   "metadata": {
    "papermill": {
     "duration": 0.0151,
     "end_time": "2023-06-19T23:00:35.077502",
     "exception": false,
     "start_time": "2023-06-19T23:00:35.062402",
     "status": "completed"
    },
    "tags": []
   },
   "source": [
    "# ***Mushroom Classification 🍄***"
   ]
  },
  {
   "cell_type": "markdown",
   "id": "99c8c36b",
   "metadata": {
    "papermill": {
     "duration": 0.012309,
     "end_time": "2023-06-19T23:00:35.102451",
     "exception": false,
     "start_time": "2023-06-19T23:00:35.090142",
     "status": "completed"
    },
    "tags": []
   },
   "source": [
    "![](https://wallpapercave.com/wp/wp10369970.jpg)"
   ]
  },
  {
   "cell_type": "markdown",
   "id": "8897b313",
   "metadata": {
    "papermill": {
     "duration": 0.011637,
     "end_time": "2023-06-19T23:00:35.126191",
     "exception": false,
     "start_time": "2023-06-19T23:00:35.114554",
     "status": "completed"
    },
    "tags": []
   },
   "source": [
    "**In this project, we will try to figure out if a mushroom is edible or not.**\n",
    "\n",
    "**This dataset includes descriptions of hypothetical samples corresponding to 23 species of gilled mushrooms. Each species is identified as edible or poisonous.**\n"
   ]
  },
  {
   "cell_type": "markdown",
   "id": "4563849a",
   "metadata": {
    "papermill": {
     "duration": 0.011551,
     "end_time": "2023-06-19T23:00:35.149683",
     "exception": false,
     "start_time": "2023-06-19T23:00:35.138132",
     "status": "completed"
    },
    "tags": []
   },
   "source": [
    "**We will tackle this classification problem using**  \n",
    "* Logistic Regression \n",
    "* Ridge Classifier \n",
    "* Decision Tree \n",
    "* Naive Bayes \n",
    "* Neural Networks\n",
    "\n",
    "**After comparing the results of each model, we will find out the best performing one.**"
   ]
  },
  {
   "cell_type": "markdown",
   "id": "e5fb612e",
   "metadata": {
    "papermill": {
     "duration": 0.011767,
     "end_time": "2023-06-19T23:00:35.174157",
     "exception": false,
     "start_time": "2023-06-19T23:00:35.162390",
     "status": "completed"
    },
    "tags": []
   },
   "source": [
    "![](https://images3.alphacoders.com/106/thumb-1920-1065128.jpg)"
   ]
  },
  {
   "cell_type": "markdown",
   "id": "931137b0",
   "metadata": {
    "papermill": {
     "duration": 0.011706,
     "end_time": "2023-06-19T23:00:35.197852",
     "exception": false,
     "start_time": "2023-06-19T23:00:35.186146",
     "status": "completed"
    },
    "tags": []
   },
   "source": [
    "**📌Importing the required libraries**"
   ]
  },
  {
   "cell_type": "code",
   "execution_count": 1,
   "id": "2feeff1e",
   "metadata": {
    "execution": {
     "iopub.execute_input": "2023-06-19T23:00:35.223521Z",
     "iopub.status.busy": "2023-06-19T23:00:35.223132Z",
     "iopub.status.idle": "2023-06-19T23:00:37.415295Z",
     "shell.execute_reply": "2023-06-19T23:00:37.414105Z"
    },
    "papermill": {
     "duration": 2.208493,
     "end_time": "2023-06-19T23:00:37.418287",
     "exception": false,
     "start_time": "2023-06-19T23:00:35.209794",
     "status": "completed"
    },
    "tags": []
   },
   "outputs": [],
   "source": [
    "import pandas as pd\n",
    "import matplotlib.pyplot as plt\n",
    "import seaborn as sns\n",
    "\n",
    "\n",
    "from sklearn.preprocessing import LabelEncoder\n",
    "from sklearn.model_selection import train_test_split\n",
    "\n",
    "\n",
    "from sklearn.linear_model import LogisticRegression, RidgeClassifier\n",
    "from sklearn.tree import DecisionTreeClassifier\n",
    "from sklearn.naive_bayes import GaussianNB\n",
    "from sklearn.neural_network import MLPClassifier\n",
    "from sklearn.ensemble import RandomForestClassifier\n",
    "\n",
    "\n",
    "from sklearn.metrics import classification_report"
   ]
  },
  {
   "cell_type": "markdown",
   "id": "17557d97",
   "metadata": {
    "papermill": {
     "duration": 0.011717,
     "end_time": "2023-06-19T23:00:37.442532",
     "exception": false,
     "start_time": "2023-06-19T23:00:37.430815",
     "status": "completed"
    },
    "tags": []
   },
   "source": [
    "**📌Dataset and preprocessing**"
   ]
  },
  {
   "cell_type": "code",
   "execution_count": 2,
   "id": "c3e79bfd",
   "metadata": {
    "execution": {
     "iopub.execute_input": "2023-06-19T23:00:37.468314Z",
     "iopub.status.busy": "2023-06-19T23:00:37.467938Z",
     "iopub.status.idle": "2023-06-19T23:00:37.519868Z",
     "shell.execute_reply": "2023-06-19T23:00:37.518645Z"
    },
    "papermill": {
     "duration": 0.068087,
     "end_time": "2023-06-19T23:00:37.522764",
     "exception": false,
     "start_time": "2023-06-19T23:00:37.454677",
     "status": "completed"
    },
    "tags": []
   },
   "outputs": [],
   "source": [
    "data = pd.read_csv(\"/kaggle/input/mushroomcsv/mushrooms.csv\")"
   ]
  },
  {
   "cell_type": "code",
   "execution_count": 3,
   "id": "b5896ee7",
   "metadata": {
    "execution": {
     "iopub.execute_input": "2023-06-19T23:00:37.548891Z",
     "iopub.status.busy": "2023-06-19T23:00:37.548463Z",
     "iopub.status.idle": "2023-06-19T23:00:37.640420Z",
     "shell.execute_reply": "2023-06-19T23:00:37.639195Z"
    },
    "papermill": {
     "duration": 0.10805,
     "end_time": "2023-06-19T23:00:37.643096",
     "exception": false,
     "start_time": "2023-06-19T23:00:37.535046",
     "status": "completed"
    },
    "tags": []
   },
   "outputs": [
    {
     "name": "stdout",
     "output_type": "stream",
     "text": [
      "<class 'pandas.core.frame.DataFrame'>\n",
      "RangeIndex: 8124 entries, 0 to 8123\n",
      "Data columns (total 23 columns):\n",
      " #   Column                    Non-Null Count  Dtype \n",
      "---  ------                    --------------  ----- \n",
      " 0   class                     8124 non-null   object\n",
      " 1   cap-shape                 8124 non-null   object\n",
      " 2   cap-surface               8124 non-null   object\n",
      " 3   cap-color                 8124 non-null   object\n",
      " 4   bruises                   8124 non-null   object\n",
      " 5   odor                      8124 non-null   object\n",
      " 6   gill-attachment           8124 non-null   object\n",
      " 7   gill-spacing              8124 non-null   object\n",
      " 8   gill-size                 8124 non-null   object\n",
      " 9   gill-color                8124 non-null   object\n",
      " 10  stalk-shape               8124 non-null   object\n",
      " 11  stalk-root                8124 non-null   object\n",
      " 12  stalk-surface-above-ring  8124 non-null   object\n",
      " 13  stalk-surface-below-ring  8124 non-null   object\n",
      " 14  stalk-color-above-ring    8124 non-null   object\n",
      " 15  stalk-color-below-ring    8124 non-null   object\n",
      " 16  veil-type                 8124 non-null   object\n",
      " 17  veil-color                8124 non-null   object\n",
      " 18  ring-number               8124 non-null   object\n",
      " 19  ring-type                 8124 non-null   object\n",
      " 20  spore-print-color         8124 non-null   object\n",
      " 21  population                8124 non-null   object\n",
      " 22  habitat                   8124 non-null   object\n",
      "dtypes: object(23)\n",
      "memory usage: 1.4+ MB\n"
     ]
    }
   ],
   "source": [
    "data.info()"
   ]
  },
  {
   "cell_type": "code",
   "execution_count": 4,
   "id": "c961d7d8",
   "metadata": {
    "execution": {
     "iopub.execute_input": "2023-06-19T23:00:37.670348Z",
     "iopub.status.busy": "2023-06-19T23:00:37.669341Z",
     "iopub.status.idle": "2023-06-19T23:00:37.707544Z",
     "shell.execute_reply": "2023-06-19T23:00:37.706375Z"
    },
    "papermill": {
     "duration": 0.054893,
     "end_time": "2023-06-19T23:00:37.710240",
     "exception": false,
     "start_time": "2023-06-19T23:00:37.655347",
     "status": "completed"
    },
    "tags": []
   },
   "outputs": [
    {
     "data": {
      "text/html": [
       "<div>\n",
       "<style scoped>\n",
       "    .dataframe tbody tr th:only-of-type {\n",
       "        vertical-align: middle;\n",
       "    }\n",
       "\n",
       "    .dataframe tbody tr th {\n",
       "        vertical-align: top;\n",
       "    }\n",
       "\n",
       "    .dataframe thead th {\n",
       "        text-align: right;\n",
       "    }\n",
       "</style>\n",
       "<table border=\"1\" class=\"dataframe\">\n",
       "  <thead>\n",
       "    <tr style=\"text-align: right;\">\n",
       "      <th></th>\n",
       "      <th>class</th>\n",
       "      <th>cap-shape</th>\n",
       "      <th>cap-surface</th>\n",
       "      <th>cap-color</th>\n",
       "      <th>bruises</th>\n",
       "      <th>odor</th>\n",
       "      <th>gill-attachment</th>\n",
       "      <th>gill-spacing</th>\n",
       "      <th>gill-size</th>\n",
       "      <th>gill-color</th>\n",
       "      <th>...</th>\n",
       "      <th>stalk-surface-below-ring</th>\n",
       "      <th>stalk-color-above-ring</th>\n",
       "      <th>stalk-color-below-ring</th>\n",
       "      <th>veil-type</th>\n",
       "      <th>veil-color</th>\n",
       "      <th>ring-number</th>\n",
       "      <th>ring-type</th>\n",
       "      <th>spore-print-color</th>\n",
       "      <th>population</th>\n",
       "      <th>habitat</th>\n",
       "    </tr>\n",
       "  </thead>\n",
       "  <tbody>\n",
       "    <tr>\n",
       "      <th>0</th>\n",
       "      <td>p</td>\n",
       "      <td>x</td>\n",
       "      <td>s</td>\n",
       "      <td>n</td>\n",
       "      <td>t</td>\n",
       "      <td>p</td>\n",
       "      <td>f</td>\n",
       "      <td>c</td>\n",
       "      <td>n</td>\n",
       "      <td>k</td>\n",
       "      <td>...</td>\n",
       "      <td>s</td>\n",
       "      <td>w</td>\n",
       "      <td>w</td>\n",
       "      <td>p</td>\n",
       "      <td>w</td>\n",
       "      <td>o</td>\n",
       "      <td>p</td>\n",
       "      <td>k</td>\n",
       "      <td>s</td>\n",
       "      <td>u</td>\n",
       "    </tr>\n",
       "    <tr>\n",
       "      <th>1</th>\n",
       "      <td>e</td>\n",
       "      <td>x</td>\n",
       "      <td>s</td>\n",
       "      <td>y</td>\n",
       "      <td>t</td>\n",
       "      <td>a</td>\n",
       "      <td>f</td>\n",
       "      <td>c</td>\n",
       "      <td>b</td>\n",
       "      <td>k</td>\n",
       "      <td>...</td>\n",
       "      <td>s</td>\n",
       "      <td>w</td>\n",
       "      <td>w</td>\n",
       "      <td>p</td>\n",
       "      <td>w</td>\n",
       "      <td>o</td>\n",
       "      <td>p</td>\n",
       "      <td>n</td>\n",
       "      <td>n</td>\n",
       "      <td>g</td>\n",
       "    </tr>\n",
       "    <tr>\n",
       "      <th>2</th>\n",
       "      <td>e</td>\n",
       "      <td>b</td>\n",
       "      <td>s</td>\n",
       "      <td>w</td>\n",
       "      <td>t</td>\n",
       "      <td>l</td>\n",
       "      <td>f</td>\n",
       "      <td>c</td>\n",
       "      <td>b</td>\n",
       "      <td>n</td>\n",
       "      <td>...</td>\n",
       "      <td>s</td>\n",
       "      <td>w</td>\n",
       "      <td>w</td>\n",
       "      <td>p</td>\n",
       "      <td>w</td>\n",
       "      <td>o</td>\n",
       "      <td>p</td>\n",
       "      <td>n</td>\n",
       "      <td>n</td>\n",
       "      <td>m</td>\n",
       "    </tr>\n",
       "    <tr>\n",
       "      <th>3</th>\n",
       "      <td>p</td>\n",
       "      <td>x</td>\n",
       "      <td>y</td>\n",
       "      <td>w</td>\n",
       "      <td>t</td>\n",
       "      <td>p</td>\n",
       "      <td>f</td>\n",
       "      <td>c</td>\n",
       "      <td>n</td>\n",
       "      <td>n</td>\n",
       "      <td>...</td>\n",
       "      <td>s</td>\n",
       "      <td>w</td>\n",
       "      <td>w</td>\n",
       "      <td>p</td>\n",
       "      <td>w</td>\n",
       "      <td>o</td>\n",
       "      <td>p</td>\n",
       "      <td>k</td>\n",
       "      <td>s</td>\n",
       "      <td>u</td>\n",
       "    </tr>\n",
       "    <tr>\n",
       "      <th>4</th>\n",
       "      <td>e</td>\n",
       "      <td>x</td>\n",
       "      <td>s</td>\n",
       "      <td>g</td>\n",
       "      <td>f</td>\n",
       "      <td>n</td>\n",
       "      <td>f</td>\n",
       "      <td>w</td>\n",
       "      <td>b</td>\n",
       "      <td>k</td>\n",
       "      <td>...</td>\n",
       "      <td>s</td>\n",
       "      <td>w</td>\n",
       "      <td>w</td>\n",
       "      <td>p</td>\n",
       "      <td>w</td>\n",
       "      <td>o</td>\n",
       "      <td>e</td>\n",
       "      <td>n</td>\n",
       "      <td>a</td>\n",
       "      <td>g</td>\n",
       "    </tr>\n",
       "  </tbody>\n",
       "</table>\n",
       "<p>5 rows × 23 columns</p>\n",
       "</div>"
      ],
      "text/plain": [
       "  class cap-shape cap-surface cap-color bruises odor gill-attachment  \\\n",
       "0     p         x           s         n       t    p               f   \n",
       "1     e         x           s         y       t    a               f   \n",
       "2     e         b           s         w       t    l               f   \n",
       "3     p         x           y         w       t    p               f   \n",
       "4     e         x           s         g       f    n               f   \n",
       "\n",
       "  gill-spacing gill-size gill-color  ... stalk-surface-below-ring  \\\n",
       "0            c         n          k  ...                        s   \n",
       "1            c         b          k  ...                        s   \n",
       "2            c         b          n  ...                        s   \n",
       "3            c         n          n  ...                        s   \n",
       "4            w         b          k  ...                        s   \n",
       "\n",
       "  stalk-color-above-ring stalk-color-below-ring veil-type veil-color  \\\n",
       "0                      w                      w         p          w   \n",
       "1                      w                      w         p          w   \n",
       "2                      w                      w         p          w   \n",
       "3                      w                      w         p          w   \n",
       "4                      w                      w         p          w   \n",
       "\n",
       "  ring-number ring-type spore-print-color population habitat  \n",
       "0           o         p                 k          s       u  \n",
       "1           o         p                 n          n       g  \n",
       "2           o         p                 n          n       m  \n",
       "3           o         p                 k          s       u  \n",
       "4           o         e                 n          a       g  \n",
       "\n",
       "[5 rows x 23 columns]"
      ]
     },
     "execution_count": 4,
     "metadata": {},
     "output_type": "execute_result"
    }
   ],
   "source": [
    "data.head()"
   ]
  },
  {
   "cell_type": "markdown",
   "id": "f6c7b162",
   "metadata": {
    "papermill": {
     "duration": 0.012067,
     "end_time": "2023-06-19T23:00:37.734956",
     "exception": false,
     "start_time": "2023-06-19T23:00:37.722889",
     "status": "completed"
    },
    "tags": []
   },
   "source": [
    "**Let's write the features one by one to make it more understandable.**\n",
    "\n",
    "classes: edible=e, poisonous=p\n",
    "\n",
    "cap-shape: bell=b,conical=c,convex=x,flat=f, knobbed=k,sunken=s\n",
    "\n",
    "cap-surface: fibrous=f,grooves=g,scaly=y,smooth=s\n",
    "\n",
    "cap-color: brown=n,buff=b,cinnamon=c,gray=g,green=r,pink=p,purple=u,red=e,white=w,yellow=y\n",
    "\n",
    "bruises: bruises=t,no=f\n",
    "\n",
    "odor: almond=a,anise=l,creosote=c,fishy=y,foul=f,musty=m,none=n,pungent=p,spicy=s\n",
    "\n",
    "gill-attachment: attached=a,descending=d,free=f,notched=n\n",
    "\n",
    "gill-spacing: close=c,crowded=w,distant=d\n",
    "\n",
    "gill-size: broad=b,narrow=n\n",
    "\n",
    "gill-color: black=k,brown=n,buff=b,chocolate=h,gray=g, green=r,orange=o,pink=p,purple=u,red=e,white=w,yellow=y\n",
    "\n",
    "stalk-shape: enlarging=e,tapering=t\n",
    "\n",
    "stalk-root: bulbous=b,club=c,cup=u,equal=e,rhizomorphs=z,rooted=r,missing=?\n",
    "\n",
    "stalk-surface-above-ring: fibrous=f,scaly=y,silky=k,smooth=s\n",
    "\n",
    "stalk-surface-below-ring: fibrous=f,scaly=y,silky=k,smooth=s\n",
    "\n",
    "stalk-color-above-ring: brown=n,buff=b,cinnamon=c,gray=g,orange=o,pink=p,red=e,white=w,yellow=y\n",
    "\n",
    "stalk-color-below-ring: brown=n,buff=b,cinnamon=c,gray=g,orange=o,pink=p,red=e,white=w,yellow=y\n",
    "\n",
    "veil-type: partial=p,universal=u\n",
    "\n",
    "veil-color: brown=n,orange=o,white=w,yellow=y\n",
    "\n",
    "ring-number: none=n,one=o,two=t\n",
    "\n",
    "ring-type: cobwebby=c,evanescent=e,flaring=f,large=l,none=n,pendant=p,sheathing=s,zone=z\n",
    "\n",
    "spore-print-color: black=k,brown=n,buff=b,chocolate=h,green=r,orange=o,purple=u,white=w,yellow=y\n",
    "\n",
    "population: abundant=a,clustered=c,numerous=n,scattered=s,several=v,solitary=y\n",
    "\n",
    "habitat: grasses=g,leaves=l,meadows=m,paths=p,urban=u,waste=w,woods=d"
   ]
  },
  {
   "cell_type": "markdown",
   "id": "86e80624",
   "metadata": {
    "papermill": {
     "duration": 0.012017,
     "end_time": "2023-06-19T23:00:37.759450",
     "exception": false,
     "start_time": "2023-06-19T23:00:37.747433",
     "status": "completed"
    },
    "tags": []
   },
   "source": [
    "![](https://cdn.shopify.com/s/files/1/0031/4756/3081/files/Anatomy3.jpg?v=1596220270)"
   ]
  },
  {
   "cell_type": "markdown",
   "id": "22f28661",
   "metadata": {
    "papermill": {
     "duration": 0.012163,
     "end_time": "2023-06-19T23:00:37.784192",
     "exception": false,
     "start_time": "2023-06-19T23:00:37.772029",
     "status": "completed"
    },
    "tags": []
   },
   "source": [
    "**📌Visualize the data**"
   ]
  },
  {
   "cell_type": "code",
   "execution_count": 5,
   "id": "6b9d72e9",
   "metadata": {
    "execution": {
     "iopub.execute_input": "2023-06-19T23:00:37.813103Z",
     "iopub.status.busy": "2023-06-19T23:00:37.812121Z",
     "iopub.status.idle": "2023-06-19T23:00:37.823856Z",
     "shell.execute_reply": "2023-06-19T23:00:37.822995Z"
    },
    "papermill": {
     "duration": 0.028143,
     "end_time": "2023-06-19T23:00:37.826427",
     "exception": false,
     "start_time": "2023-06-19T23:00:37.798284",
     "status": "completed"
    },
    "tags": []
   },
   "outputs": [
    {
     "data": {
      "text/plain": [
       "e    4208\n",
       "p    3916\n",
       "Name: class, dtype: int64"
      ]
     },
     "execution_count": 5,
     "metadata": {},
     "output_type": "execute_result"
    }
   ],
   "source": [
    "classes = data[\"class\"].value_counts()\n",
    "classes"
   ]
  },
  {
   "cell_type": "code",
   "execution_count": 6,
   "id": "5802bc1b",
   "metadata": {
    "execution": {
     "iopub.execute_input": "2023-06-19T23:00:37.854269Z",
     "iopub.status.busy": "2023-06-19T23:00:37.853095Z",
     "iopub.status.idle": "2023-06-19T23:00:38.145769Z",
     "shell.execute_reply": "2023-06-19T23:00:38.144636Z"
    },
    "papermill": {
     "duration": 0.309181,
     "end_time": "2023-06-19T23:00:38.148368",
     "exception": false,
     "start_time": "2023-06-19T23:00:37.839187",
     "status": "completed"
    },
    "tags": []
   },
   "outputs": [
    {
     "data": {
      "image/png": "[encoded data removed]",
      "text/plain": [
       "<Figure size 640x480 with 1 Axes>"
      ]
     },
     "metadata": {},
     "output_type": "display_data"
    }
   ],
   "source": [
    "plt.bar(\"Edible\", classes[\"e\"], color=\"pink\", edgecolor=\"black\")\n",
    "plt.bar(\"Poisonous\", classes[\"p\"], color=\"red\", edgecolor=\"black\")\n",
    "plt.ylabel('Count', fontsize=12)\n",
    "plt.xlabel('Mushrooms', fontsize=12)\n",
    "plt.title(\"Classes\",fontsize=16)\n",
    "plt.show()\n"
   ]
  },
  {
   "cell_type": "markdown",
   "id": "d6cc59a2",
   "metadata": {
    "papermill": {
     "duration": 0.012996,
     "end_time": "2023-06-19T23:00:38.177009",
     "exception": false,
     "start_time": "2023-06-19T23:00:38.164013",
     "status": "completed"
    },
    "tags": []
   },
   "source": [
    "*We see that the \"Edible\" and \"Poisonous\" values are very close to each other.\n",
    "This means that the data is balanced.*"
   ]
  },
  {
   "cell_type": "code",
   "execution_count": 7,
   "id": "a46d20ee",
   "metadata": {
    "execution": {
     "iopub.execute_input": "2023-06-19T23:00:38.205315Z",
     "iopub.status.busy": "2023-06-19T23:00:38.204930Z",
     "iopub.status.idle": "2023-06-19T23:00:38.592151Z",
     "shell.execute_reply": "2023-06-19T23:00:38.590910Z"
    },
    "papermill": {
     "duration": 0.404408,
     "end_time": "2023-06-19T23:00:38.594638",
     "exception": false,
     "start_time": "2023-06-19T23:00:38.190230",
     "status": "completed"
    },
    "tags": []
   },
   "outputs": [
    {
     "data": {
      "image/png": "[encoded data removed]",
      "text/plain": [
       "<Figure size 1500x800 with 1 Axes>"
      ]
     },
     "metadata": {},
     "output_type": "display_data"
    }
   ],
   "source": [
    "plt.figure(figsize=(15, 8))\n",
    "splot = sns.countplot(data=data, x='bruises',\n",
    "                      hue='class',\n",
    "                      order=data['bruises'].value_counts().index,\n",
    "                      palette=['red', 'pink'],\n",
    "                      edgecolor=(0, 0, 0),\n",
    "                      linewidth=2)\n",
    "                      \n",
    "splot.set_xticklabels(['Mushrooms without Bruises', 'Mushrooms with Bruises'])\n",
    "\n",
    "for p in splot.patches:\n",
    "    splot.annotate(format(p.get_height(), '.1f'),\n",
    "                   (p.get_x() + p.get_width() / 2., p.get_height()),\n",
    "                   ha='center', va='center',\n",
    "                   xytext=(0, 9),\n",
    "                   textcoords='offset points')\n",
    "                   \n",
    "plt.legend(['Poisonous', 'Edible'], loc='upper right')\n",
    "plt.ylabel('Count', fontsize=12)\n",
    "plt.xlabel('Mushrooms', fontsize=12)\n",
    "plt.xticks(fontsize=12)\n",
    "plt.yticks(fontsize=12)\n",
    "plt.title('Distribution of the Mushrooms by Classes and Bruises', fontsize=16)\n",
    "plt.show()"
   ]
  },
  {
   "cell_type": "markdown",
   "id": "b234c550",
   "metadata": {
    "papermill": {
     "duration": 0.013496,
     "end_time": "2023-06-19T23:00:38.622114",
     "exception": false,
     "start_time": "2023-06-19T23:00:38.608618",
     "status": "completed"
    },
    "tags": []
   },
   "source": [
    "*As we can see from the graph above, Mushrooms without Bruises are high frequently poisonous. In contrast, the Mushrooms with the Bruises are highly edible.*"
   ]
  },
  {
   "cell_type": "code",
   "execution_count": 8,
   "id": "17b3a489",
   "metadata": {
    "execution": {
     "iopub.execute_input": "2023-06-19T23:00:38.652533Z",
     "iopub.status.busy": "2023-06-19T23:00:38.652143Z",
     "iopub.status.idle": "2023-06-19T23:00:39.189428Z",
     "shell.execute_reply": "2023-06-19T23:00:39.188533Z"
    },
    "papermill": {
     "duration": 0.555365,
     "end_time": "2023-06-19T23:00:39.191797",
     "exception": false,
     "start_time": "2023-06-19T23:00:38.636432",
     "status": "completed"
    },
    "tags": []
   },
   "outputs": [
    {
     "data": {
      "image/png": "[encoded data removed]",
      "text/plain": [
       "<Figure size 1500x800 with 1 Axes>"
      ]
     },
     "metadata": {},
     "output_type": "display_data"
    }
   ],
   "source": [
    "plt.figure(figsize=(15, 8))\n",
    "splot = sns.countplot(data=data, x='odor',\n",
    "                      hue='class',\n",
    "                      order=data['odor'].value_counts().index,\n",
    "                      palette=['red', 'pink'],\n",
    "                      edgecolor=(0, 0, 0),\n",
    "                      linewidth=2)\n",
    "                      \n",
    "splot.set_xticklabels(['No Odor', 'Foul', 'Fishy', 'Spicy', 'Anise', 'Almond', 'Pungent',\n",
    "                       'Creosote', 'Musty'])\n",
    "\n",
    "for p in splot.patches:\n",
    "    splot.annotate(format(p.get_height(), '.1f'),\n",
    "                   (p.get_x() + p.get_width() / 2., p.get_height()),\n",
    "                   ha='center', va='center',\n",
    "                   xytext=(0, 9),\n",
    "                   textcoords='offset points')\n",
    "                   \n",
    "plt.legend(['Poisonous', 'Edible'], loc='upper right')\n",
    "plt.ylabel('Count', fontsize=12)\n",
    "plt.xlabel('Odor of the Mushrooms', fontsize=12)\n",
    "plt.xticks(fontsize=12)\n",
    "plt.yticks(fontsize=12)\n",
    "plt.title('Distribution of the Mushrooms by Classes and Odor', fontsize=16)\n",
    "plt.show()"
   ]
  },
  {
   "cell_type": "markdown",
   "id": "cd37595f",
   "metadata": {
    "papermill": {
     "duration": 0.014599,
     "end_time": "2023-06-19T23:00:39.221427",
     "exception": false,
     "start_time": "2023-06-19T23:00:39.206828",
     "status": "completed"
    },
    "tags": []
   },
   "source": [
    "*According to the graph above, odorless mushrooms are highly safe for humans. However Foul, Fishy and Spicy mushrooms are often poisonous. Anise and Almond fragrant mushrooms do not have a poisonous class.*"
   ]
  },
  {
   "cell_type": "markdown",
   "id": "edd078bb",
   "metadata": {
    "papermill": {
     "duration": 0.014451,
     "end_time": "2023-06-19T23:00:39.250771",
     "exception": false,
     "start_time": "2023-06-19T23:00:39.236320",
     "status": "completed"
    },
    "tags": []
   },
   "source": [
    "**📌Features and labels**"
   ]
  },
  {
   "cell_type": "code",
   "execution_count": 9,
   "id": "466298c4",
   "metadata": {
    "execution": {
     "iopub.execute_input": "2023-06-19T23:00:39.282206Z",
     "iopub.status.busy": "2023-06-19T23:00:39.281810Z",
     "iopub.status.idle": "2023-06-19T23:00:39.289188Z",
     "shell.execute_reply": "2023-06-19T23:00:39.288074Z"
    },
    "papermill": {
     "duration": 0.025717,
     "end_time": "2023-06-19T23:00:39.291395",
     "exception": false,
     "start_time": "2023-06-19T23:00:39.265678",
     "status": "completed"
    },
    "tags": []
   },
   "outputs": [],
   "source": [
    "X = data.loc[:, [\"cap-shape\", \"cap-color\", \"ring-number\", \"ring-type\"]]\n",
    "y = data.loc[:, \"class\"]"
   ]
  },
  {
   "cell_type": "markdown",
   "id": "188f9f23",
   "metadata": {
    "papermill": {
     "duration": 0.0146,
     "end_time": "2023-06-19T23:00:39.320969",
     "exception": false,
     "start_time": "2023-06-19T23:00:39.306369",
     "status": "completed"
    },
    "tags": []
   },
   "source": [
    "**📌Converting the values**"
   ]
  },
  {
   "cell_type": "code",
   "execution_count": 10,
   "id": "a8c296a2",
   "metadata": {
    "execution": {
     "iopub.execute_input": "2023-06-19T23:00:39.352484Z",
     "iopub.status.busy": "2023-06-19T23:00:39.352087Z",
     "iopub.status.idle": "2023-06-19T23:00:39.374473Z",
     "shell.execute_reply": "2023-06-19T23:00:39.373295Z"
    },
    "papermill": {
     "duration": 0.041302,
     "end_time": "2023-06-19T23:00:39.377203",
     "exception": false,
     "start_time": "2023-06-19T23:00:39.335901",
     "status": "completed"
    },
    "tags": []
   },
   "outputs": [],
   "source": [
    "encoder = LabelEncoder()\n",
    "\n",
    "for i in X.columns:\n",
    "  X[i] = encoder.fit_transform(X[i])\n",
    "\n",
    "y = encoder.fit_transform(y)"
   ]
  },
  {
   "cell_type": "code",
   "execution_count": 11,
   "id": "a3a81f28",
   "metadata": {
    "execution": {
     "iopub.execute_input": "2023-06-19T23:00:39.409285Z",
     "iopub.status.busy": "2023-06-19T23:00:39.408885Z",
     "iopub.status.idle": "2023-06-19T23:00:39.422818Z",
     "shell.execute_reply": "2023-06-19T23:00:39.421705Z"
    },
    "papermill": {
     "duration": 0.032608,
     "end_time": "2023-06-19T23:00:39.425092",
     "exception": false,
     "start_time": "2023-06-19T23:00:39.392484",
     "status": "completed"
    },
    "tags": []
   },
   "outputs": [
    {
     "data": {
      "text/html": [
       "<div>\n",
       "<style scoped>\n",
       "    .dataframe tbody tr th:only-of-type {\n",
       "        vertical-align: middle;\n",
       "    }\n",
       "\n",
       "    .dataframe tbody tr th {\n",
       "        vertical-align: top;\n",
       "    }\n",
       "\n",
       "    .dataframe thead th {\n",
       "        text-align: right;\n",
       "    }\n",
       "</style>\n",
       "<table border=\"1\" class=\"dataframe\">\n",
       "  <thead>\n",
       "    <tr style=\"text-align: right;\">\n",
       "      <th></th>\n",
       "      <th>cap-shape</th>\n",
       "      <th>cap-color</th>\n",
       "      <th>ring-number</th>\n",
       "      <th>ring-type</th>\n",
       "    </tr>\n",
       "  </thead>\n",
       "  <tbody>\n",
       "    <tr>\n",
       "      <th>0</th>\n",
       "      <td>5</td>\n",
       "      <td>4</td>\n",
       "      <td>1</td>\n",
       "      <td>4</td>\n",
       "    </tr>\n",
       "    <tr>\n",
       "      <th>1</th>\n",
       "      <td>5</td>\n",
       "      <td>9</td>\n",
       "      <td>1</td>\n",
       "      <td>4</td>\n",
       "    </tr>\n",
       "    <tr>\n",
       "      <th>2</th>\n",
       "      <td>0</td>\n",
       "      <td>8</td>\n",
       "      <td>1</td>\n",
       "      <td>4</td>\n",
       "    </tr>\n",
       "    <tr>\n",
       "      <th>3</th>\n",
       "      <td>5</td>\n",
       "      <td>8</td>\n",
       "      <td>1</td>\n",
       "      <td>4</td>\n",
       "    </tr>\n",
       "    <tr>\n",
       "      <th>4</th>\n",
       "      <td>5</td>\n",
       "      <td>3</td>\n",
       "      <td>1</td>\n",
       "      <td>0</td>\n",
       "    </tr>\n",
       "    <tr>\n",
       "      <th>...</th>\n",
       "      <td>...</td>\n",
       "      <td>...</td>\n",
       "      <td>...</td>\n",
       "      <td>...</td>\n",
       "    </tr>\n",
       "    <tr>\n",
       "      <th>8119</th>\n",
       "      <td>3</td>\n",
       "      <td>4</td>\n",
       "      <td>1</td>\n",
       "      <td>4</td>\n",
       "    </tr>\n",
       "    <tr>\n",
       "      <th>8120</th>\n",
       "      <td>5</td>\n",
       "      <td>4</td>\n",
       "      <td>1</td>\n",
       "      <td>4</td>\n",
       "    </tr>\n",
       "    <tr>\n",
       "      <th>8121</th>\n",
       "      <td>2</td>\n",
       "      <td>4</td>\n",
       "      <td>1</td>\n",
       "      <td>4</td>\n",
       "    </tr>\n",
       "    <tr>\n",
       "      <th>8122</th>\n",
       "      <td>3</td>\n",
       "      <td>4</td>\n",
       "      <td>1</td>\n",
       "      <td>0</td>\n",
       "    </tr>\n",
       "    <tr>\n",
       "      <th>8123</th>\n",
       "      <td>5</td>\n",
       "      <td>4</td>\n",
       "      <td>1</td>\n",
       "      <td>4</td>\n",
       "    </tr>\n",
       "  </tbody>\n",
       "</table>\n",
       "<p>8124 rows × 4 columns</p>\n",
       "</div>"
      ],
      "text/plain": [
       "      cap-shape  cap-color  ring-number  ring-type\n",
       "0             5          4            1          4\n",
       "1             5          9            1          4\n",
       "2             0          8            1          4\n",
       "3             5          8            1          4\n",
       "4             5          3            1          0\n",
       "...         ...        ...          ...        ...\n",
       "8119          3          4            1          4\n",
       "8120          5          4            1          4\n",
       "8121          2          4            1          4\n",
       "8122          3          4            1          0\n",
       "8123          5          4            1          4\n",
       "\n",
       "[8124 rows x 4 columns]"
      ]
     },
     "execution_count": 11,
     "metadata": {},
     "output_type": "execute_result"
    }
   ],
   "source": [
    "X"
   ]
  },
  {
   "cell_type": "code",
   "execution_count": 12,
   "id": "fd7fc2e1",
   "metadata": {
    "execution": {
     "iopub.execute_input": "2023-06-19T23:00:39.457971Z",
     "iopub.status.busy": "2023-06-19T23:00:39.456871Z",
     "iopub.status.idle": "2023-06-19T23:00:39.463231Z",
     "shell.execute_reply": "2023-06-19T23:00:39.462420Z"
    },
    "papermill": {
     "duration": 0.024975,
     "end_time": "2023-06-19T23:00:39.465350",
     "exception": false,
     "start_time": "2023-06-19T23:00:39.440375",
     "status": "completed"
    },
    "tags": []
   },
   "outputs": [
    {
     "data": {
      "text/plain": [
       "array([1, 0, 0, ..., 0, 1, 0])"
      ]
     },
     "execution_count": 12,
     "metadata": {},
     "output_type": "execute_result"
    }
   ],
   "source": [
    "y"
   ]
  },
  {
   "cell_type": "markdown",
   "id": "2289aec3",
   "metadata": {
    "papermill": {
     "duration": 0.015081,
     "end_time": "2023-06-19T23:00:39.496259",
     "exception": false,
     "start_time": "2023-06-19T23:00:39.481178",
     "status": "completed"
    },
    "tags": []
   },
   "source": [
    "**📌Split the data**"
   ]
  },
  {
   "cell_type": "code",
   "execution_count": 13,
   "id": "d9b94bb1",
   "metadata": {
    "execution": {
     "iopub.execute_input": "2023-06-19T23:00:39.529559Z",
     "iopub.status.busy": "2023-06-19T23:00:39.528806Z",
     "iopub.status.idle": "2023-06-19T23:00:39.535172Z",
     "shell.execute_reply": "2023-06-19T23:00:39.534334Z"
    },
    "papermill": {
     "duration": 0.025952,
     "end_time": "2023-06-19T23:00:39.537716",
     "exception": false,
     "start_time": "2023-06-19T23:00:39.511764",
     "status": "completed"
    },
    "tags": []
   },
   "outputs": [],
   "source": [
    "X_train, X_test, y_train, y_test = train_test_split(X, y, test_size=0.3)"
   ]
  },
  {
   "cell_type": "markdown",
   "id": "810b32c7",
   "metadata": {
    "papermill": {
     "duration": 0.015456,
     "end_time": "2023-06-19T23:00:39.568977",
     "exception": false,
     "start_time": "2023-06-19T23:00:39.553521",
     "status": "completed"
    },
    "tags": []
   },
   "source": [
    "**📌Creating and training models**"
   ]
  },
  {
   "cell_type": "markdown",
   "id": "647e0b74",
   "metadata": {
    "papermill": {
     "duration": 0.01563,
     "end_time": "2023-06-19T23:00:39.600209",
     "exception": false,
     "start_time": "2023-06-19T23:00:39.584579",
     "status": "completed"
    },
    "tags": []
   },
   "source": [
    "*We have to try and compare different models to say definitively which model will perform best.*"
   ]
  },
  {
   "cell_type": "code",
   "execution_count": 14,
   "id": "2b11f951",
   "metadata": {
    "execution": {
     "iopub.execute_input": "2023-06-19T23:00:39.633547Z",
     "iopub.status.busy": "2023-06-19T23:00:39.632820Z",
     "iopub.status.idle": "2023-06-19T23:00:39.637783Z",
     "shell.execute_reply": "2023-06-19T23:00:39.636991Z"
    },
    "papermill": {
     "duration": 0.024219,
     "end_time": "2023-06-19T23:00:39.640069",
     "exception": false,
     "start_time": "2023-06-19T23:00:39.615850",
     "status": "completed"
    },
    "tags": []
   },
   "outputs": [],
   "source": [
    "logistic_classifier_model = LogisticRegression()\n",
    "\n",
    "ridge_classifier_model = RidgeClassifier()\n",
    "\n",
    "decision_tree_model = DecisionTreeClassifier()\n",
    "\n",
    "naive_bayes_model = GaussianNB()\n",
    "\n",
    "neural_network_model = MLPClassifier()"
   ]
  },
  {
   "cell_type": "code",
   "execution_count": 15,
   "id": "15d84ca6",
   "metadata": {
    "execution": {
     "iopub.execute_input": "2023-06-19T23:00:39.673473Z",
     "iopub.status.busy": "2023-06-19T23:00:39.672746Z",
     "iopub.status.idle": "2023-06-19T23:00:48.858026Z",
     "shell.execute_reply": "2023-06-19T23:00:48.856885Z"
    },
    "papermill": {
     "duration": 9.212352,
     "end_time": "2023-06-19T23:00:48.868112",
     "exception": false,
     "start_time": "2023-06-19T23:00:39.655760",
     "status": "completed"
    },
    "tags": []
   },
   "outputs": [
    {
     "name": "stderr",
     "output_type": "stream",
     "text": [
      "/opt/conda/lib/python3.10/site-packages/sklearn/neural_network/_multilayer_perceptron.py:686: ConvergenceWarning: Stochastic Optimizer: Maximum iterations (200) reached and the optimization hasn't converged yet.\n",
      "  warnings.warn(\n"
     ]
    },
    {
     "data": {
      "text/html": [
       "<style>#sk-container-id-1 {color: black;background-color: white;}#sk-container-id-1 pre{padding: 0;}#sk-container-id-1 div.sk-toggleable {background-color: white;}#sk-container-id-1 label.sk-toggleable__label {cursor: pointer;display: block;width: 100%;margin-bottom: 0;padding: 0.3em;box-sizing: border-box;text-align: center;}#sk-container-id-1 label.sk-toggleable__label-arrow:before {content: \"▸\";float: left;margin-right: 0.25em;color: #696969;}#sk-container-id-1 label.sk-toggleable__label-arrow:hover:before {color: black;}#sk-container-id-1 div.sk-estimator:hover label.sk-toggleable__label-arrow:before {color: black;}#sk-container-id-1 div.sk-toggleable__content {max-height: 0;max-width: 0;overflow: hidden;text-align: left;background-color: #f0f8ff;}#sk-container-id-1 div.sk-toggleable__content pre {margin: 0.2em;color: black;border-radius: 0.25em;background-color: #f0f8ff;}#sk-container-id-1 input.sk-toggleable__control:checked~div.sk-toggleable__content {max-height: 200px;max-width: 100%;overflow: auto;}#sk-container-id-1 input.sk-toggleable__control:checked~label.sk-toggleable__label-arrow:before {content: \"▾\";}#sk-container-id-1 div.sk-estimator input.sk-toggleable__control:checked~label.sk-toggleable__label {background-color: #d4ebff;}#sk-container-id-1 div.sk-label input.sk-toggleable__control:checked~label.sk-toggleable__label {background-color: #d4ebff;}#sk-container-id-1 input.sk-hidden--visually {border: 0;clip: rect(1px 1px 1px 1px);clip: rect(1px, 1px, 1px, 1px);height: 1px;margin: -1px;overflow: hidden;padding: 0;position: absolute;width: 1px;}#sk-container-id-1 div.sk-estimator {font-family: monospace;background-color: #f0f8ff;border: 1px dotted black;border-radius: 0.25em;box-sizing: border-box;margin-bottom: 0.5em;}#sk-container-id-1 div.sk-estimator:hover {background-color: #d4ebff;}#sk-container-id-1 div.sk-parallel-item::after {content: \"\";width: 100%;border-bottom: 1px solid gray;flex-grow: 1;}#sk-container-id-1 div.sk-label:hover label.sk-toggleable__label {background-color: #d4ebff;}#sk-container-id-1 div.sk-serial::before {content: \"\";position: absolute;border-left: 1px solid gray;box-sizing: border-box;top: 0;bottom: 0;left: 50%;z-index: 0;}#sk-container-id-1 div.sk-serial {display: flex;flex-direction: column;align-items: center;background-color: white;padding-right: 0.2em;padding-left: 0.2em;position: relative;}#sk-container-id-1 div.sk-item {position: relative;z-index: 1;}#sk-container-id-1 div.sk-parallel {display: flex;align-items: stretch;justify-content: center;background-color: white;position: relative;}#sk-container-id-1 div.sk-item::before, #sk-container-id-1 div.sk-parallel-item::before {content: \"\";position: absolute;border-left: 1px solid gray;box-sizing: border-box;top: 0;bottom: 0;left: 50%;z-index: -1;}#sk-container-id-1 div.sk-parallel-item {display: flex;flex-direction: column;z-index: 1;position: relative;background-color: white;}#sk-container-id-1 div.sk-parallel-item:first-child::after {align-self: flex-end;width: 50%;}#sk-container-id-1 div.sk-parallel-item:last-child::after {align-self: flex-start;width: 50%;}#sk-container-id-1 div.sk-parallel-item:only-child::after {width: 0;}#sk-container-id-1 div.sk-dashed-wrapped {border: 1px dashed gray;margin: 0 0.4em 0.5em 0.4em;box-sizing: border-box;padding-bottom: 0.4em;background-color: white;}#sk-container-id-1 div.sk-label label {font-family: monospace;font-weight: bold;display: inline-block;line-height: 1.2em;}#sk-container-id-1 div.sk-label-container {text-align: center;}#sk-container-id-1 div.sk-container {/* jupyter's `normalize.less` sets `[hidden] { display: none; }` but bootstrap.min.css set `[hidden] { display: none !important; }` so we also need the `!important` here to be able to override the default hidden behavior on the sphinx rendered scikit-learn.org. See: https://github.com/scikit-learn/scikit-learn/issues/21755 */display: inline-block !important;position: relative;}#sk-container-id-1 div.sk-text-repr-fallback {display: none;}</style><div id=\"sk-container-id-1\" class=\"sk-top-container\"><div class=\"sk-text-repr-fallback\"><pre>MLPClassifier()</pre><b>In a Jupyter environment, please rerun this cell to show the HTML representation or trust the notebook. <br />On GitHub, the HTML representation is unable to render, please try loading this page with nbviewer.org.</b></div><div class=\"sk-container\" hidden><div class=\"sk-item\"><div class=\"sk-estimator sk-toggleable\"><input class=\"sk-toggleable__control sk-hidden--visually\" id=\"sk-estimator-id-1\" type=\"checkbox\" checked><label for=\"sk-estimator-id-1\" class=\"sk-toggleable__label sk-toggleable__label-arrow\">MLPClassifier</label><div class=\"sk-toggleable__content\"><pre>MLPClassifier()</pre></div></div></div></div></div>"
      ],
      "text/plain": [
       "MLPClassifier()"
      ]
     },
     "execution_count": 15,
     "metadata": {},
     "output_type": "execute_result"
    }
   ],
   "source": [
    "logistic_classifier_model.fit(X_train, y_train)\n",
    "\n",
    "ridge_classifier_model.fit(X_train, y_train)\n",
    "\n",
    "decision_tree_model.fit(X_train, y_train)\n",
    "\n",
    "naive_bayes_model.fit(X_train, y_train)\n",
    "\n",
    "neural_network_model.fit(X_train, y_train)"
   ]
  },
  {
   "cell_type": "code",
   "execution_count": 16,
   "id": "de68eb23",
   "metadata": {
    "execution": {
     "iopub.execute_input": "2023-06-19T23:00:48.936498Z",
     "iopub.status.busy": "2023-06-19T23:00:48.935848Z",
     "iopub.status.idle": "2023-06-19T23:00:48.966389Z",
     "shell.execute_reply": "2023-06-19T23:00:48.964850Z"
    },
    "papermill": {
     "duration": 0.07014,
     "end_time": "2023-06-19T23:00:48.971546",
     "exception": false,
     "start_time": "2023-06-19T23:00:48.901406",
     "status": "completed"
    },
    "tags": []
   },
   "outputs": [],
   "source": [
    "logistic_pred = logistic_classifier_model.predict(X_test)\n",
    "\n",
    "ridge_pred = ridge_classifier_model.predict(X_test)\n",
    "\n",
    "tree_pred = decision_tree_model.predict(X_test)\n",
    "\n",
    "naive_bayes_pred = naive_bayes_model.predict(X_test)\n",
    "\n",
    "neural_network_pred = neural_network_model.predict(X_test)"
   ]
  },
  {
   "cell_type": "markdown",
   "id": "c3ecdcbf",
   "metadata": {
    "papermill": {
     "duration": 0.033103,
     "end_time": "2023-06-19T23:00:49.038867",
     "exception": false,
     "start_time": "2023-06-19T23:00:49.005764",
     "status": "completed"
    },
    "tags": []
   },
   "source": [
    "**📌Comparing the performances**"
   ]
  },
  {
   "cell_type": "code",
   "execution_count": 17,
   "id": "f32f6801",
   "metadata": {
    "execution": {
     "iopub.execute_input": "2023-06-19T23:00:49.096282Z",
     "iopub.status.busy": "2023-06-19T23:00:49.095777Z",
     "iopub.status.idle": "2023-06-19T23:00:49.153327Z",
     "shell.execute_reply": "2023-06-19T23:00:49.152120Z"
    },
    "papermill": {
     "duration": 0.084404,
     "end_time": "2023-06-19T23:00:49.156329",
     "exception": false,
     "start_time": "2023-06-19T23:00:49.071925",
     "status": "completed"
    },
    "tags": []
   },
   "outputs": [],
   "source": [
    "logistic_report = classification_report(y_test, logistic_pred)\n",
    "\n",
    "ridge_report = classification_report(y_test, ridge_pred)\n",
    "\n",
    "tree_report = classification_report(y_test, tree_pred)\n",
    "\n",
    "naive_bayes_report = classification_report(y_test, naive_bayes_pred)\n",
    "\n",
    "neural_network_report = classification_report(y_test, neural_network_pred)"
   ]
  },
  {
   "cell_type": "markdown",
   "id": "e013b746",
   "metadata": {
    "papermill": {
     "duration": 0.01535,
     "end_time": "2023-06-19T23:00:49.187583",
     "exception": false,
     "start_time": "2023-06-19T23:00:49.172233",
     "status": "completed"
    },
    "tags": []
   },
   "source": [
    "*We print and compare the results of all models to improve readability.*"
   ]
  },
  {
   "cell_type": "code",
   "execution_count": 18,
   "id": "92cb712b",
   "metadata": {
    "execution": {
     "iopub.execute_input": "2023-06-19T23:00:49.221084Z",
     "iopub.status.busy": "2023-06-19T23:00:49.220654Z",
     "iopub.status.idle": "2023-06-19T23:00:49.227504Z",
     "shell.execute_reply": "2023-06-19T23:00:49.226415Z"
    },
    "papermill": {
     "duration": 0.026275,
     "end_time": "2023-06-19T23:00:49.229999",
     "exception": false,
     "start_time": "2023-06-19T23:00:49.203724",
     "status": "completed"
    },
    "tags": []
   },
   "outputs": [
    {
     "name": "stdout",
     "output_type": "stream",
     "text": [
      "***** Logistic Regression *****\n",
      "              precision    recall  f1-score   support\n",
      "\n",
      "           0       0.80      0.79      0.80      1217\n",
      "           1       0.79      0.80      0.80      1221\n",
      "\n",
      "    accuracy                           0.80      2438\n",
      "   macro avg       0.80      0.80      0.80      2438\n",
      "weighted avg       0.80      0.80      0.80      2438\n",
      "\n",
      "***** Ridge Regression *****\n",
      "              precision    recall  f1-score   support\n",
      "\n",
      "           0       0.80      0.79      0.80      1217\n",
      "           1       0.79      0.80      0.80      1221\n",
      "\n",
      "    accuracy                           0.80      2438\n",
      "   macro avg       0.80      0.80      0.80      2438\n",
      "weighted avg       0.80      0.80      0.80      2438\n",
      "\n",
      "***** Decision Tree *****\n",
      "              precision    recall  f1-score   support\n",
      "\n",
      "           0       0.93      0.88      0.91      1217\n",
      "           1       0.89      0.94      0.91      1221\n",
      "\n",
      "    accuracy                           0.91      2438\n",
      "   macro avg       0.91      0.91      0.91      2438\n",
      "weighted avg       0.91      0.91      0.91      2438\n",
      "\n",
      "***** Naive Bayes *****\n",
      "              precision    recall  f1-score   support\n",
      "\n",
      "           0       0.80      0.79      0.80      1217\n",
      "           1       0.79      0.80      0.80      1221\n",
      "\n",
      "    accuracy                           0.80      2438\n",
      "   macro avg       0.80      0.80      0.80      2438\n",
      "weighted avg       0.80      0.80      0.80      2438\n",
      "\n",
      "***** Neural Network *****\n",
      "              precision    recall  f1-score   support\n",
      "\n",
      "           0       0.87      0.85      0.86      1217\n",
      "           1       0.86      0.87      0.86      1221\n",
      "\n",
      "    accuracy                           0.86      2438\n",
      "   macro avg       0.86      0.86      0.86      2438\n",
      "weighted avg       0.86      0.86      0.86      2438\n",
      "\n"
     ]
    }
   ],
   "source": [
    "print(\"***** Logistic Regression *****\")\n",
    "print(logistic_report)\n",
    "      \n",
    "print(\"***** Ridge Regression *****\")\n",
    "print(ridge_report)\n",
    "\n",
    "print(\"***** Decision Tree *****\")\n",
    "print(tree_report)\n",
    "\n",
    "print(\"***** Naive Bayes *****\")\n",
    "print(naive_bayes_report)\n",
    "\n",
    "print(\"***** Neural Network *****\")\n",
    "print(neural_network_report)"
   ]
  },
  {
   "cell_type": "markdown",
   "id": "d331f9be",
   "metadata": {
    "papermill": {
     "duration": 0.01537,
     "end_time": "2023-06-19T23:00:49.261141",
     "exception": false,
     "start_time": "2023-06-19T23:00:49.245771",
     "status": "completed"
    },
    "tags": []
   },
   "source": [
    "*With an accuracy of 91 (f1-score), we can say that the Decision Tree Algorithm performs best in all types.*"
   ]
  },
  {
   "cell_type": "markdown",
   "id": "01b082b6",
   "metadata": {
    "papermill": {
     "duration": 0.01531,
     "end_time": "2023-06-19T23:00:49.292202",
     "exception": false,
     "start_time": "2023-06-19T23:00:49.276892",
     "status": "completed"
    },
    "tags": []
   },
   "source": [
    "**📌Evaluation**"
   ]
  },
  {
   "cell_type": "markdown",
   "id": "33cba110",
   "metadata": {
    "papermill": {
     "duration": 0.015297,
     "end_time": "2023-06-19T23:00:49.323255",
     "exception": false,
     "start_time": "2023-06-19T23:00:49.307958",
     "status": "completed"
    },
    "tags": []
   },
   "source": [
    "*Decision tree performed best. So maybe we can take things one step further and try the Random Forest algorithm to see if it works better.*"
   ]
  },
  {
   "cell_type": "code",
   "execution_count": 19,
   "id": "067cad24",
   "metadata": {
    "execution": {
     "iopub.execute_input": "2023-06-19T23:00:49.356612Z",
     "iopub.status.busy": "2023-06-19T23:00:49.355822Z",
     "iopub.status.idle": "2023-06-19T23:00:49.786505Z",
     "shell.execute_reply": "2023-06-19T23:00:49.785361Z"
    },
    "papermill": {
     "duration": 0.450545,
     "end_time": "2023-06-19T23:00:49.789455",
     "exception": false,
     "start_time": "2023-06-19T23:00:49.338910",
     "status": "completed"
    },
    "tags": []
   },
   "outputs": [],
   "source": [
    "random_forest_model = RandomForestClassifier()\n",
    "random_forest_model.fit(X_train, y_train)\n",
    "random_forest_pred = random_forest_model.predict(X_test)"
   ]
  },
  {
   "cell_type": "code",
   "execution_count": 20,
   "id": "45a3d51d",
   "metadata": {
    "execution": {
     "iopub.execute_input": "2023-06-19T23:00:49.823483Z",
     "iopub.status.busy": "2023-06-19T23:00:49.823078Z",
     "iopub.status.idle": "2023-06-19T23:00:49.840303Z",
     "shell.execute_reply": "2023-06-19T23:00:49.839119Z"
    },
    "papermill": {
     "duration": 0.037348,
     "end_time": "2023-06-19T23:00:49.842944",
     "exception": false,
     "start_time": "2023-06-19T23:00:49.805596",
     "status": "completed"
    },
    "tags": []
   },
   "outputs": [
    {
     "name": "stdout",
     "output_type": "stream",
     "text": [
      "              precision    recall  f1-score   support\n",
      "\n",
      "           0       0.93      0.88      0.91      1217\n",
      "           1       0.89      0.94      0.91      1221\n",
      "\n",
      "    accuracy                           0.91      2438\n",
      "   macro avg       0.91      0.91      0.91      2438\n",
      "weighted avg       0.91      0.91      0.91      2438\n",
      "\n"
     ]
    }
   ],
   "source": [
    "random_forest_report = classification_report(y_test, random_forest_pred)\n",
    "\n",
    "print(random_forest_report)"
   ]
  },
  {
   "cell_type": "markdown",
   "id": "8d5c43d7",
   "metadata": {
    "papermill": {
     "duration": 0.016428,
     "end_time": "2023-06-19T23:00:49.875435",
     "exception": false,
     "start_time": "2023-06-19T23:00:49.859007",
     "status": "completed"
    },
    "tags": []
   },
   "source": [
    "*Same result! For this dataset, we can conclude that there is no difference between using decision tree and random forest.*"
   ]
  },
  {
   "cell_type": "markdown",
   "id": "848fb2ea",
   "metadata": {
    "papermill": {
     "duration": 0.015404,
     "end_time": "2023-06-19T23:00:49.906681",
     "exception": false,
     "start_time": "2023-06-19T23:00:49.891277",
     "status": "completed"
    },
    "tags": []
   },
   "source": [
    "# *Thanks for your reading!*"
   ]
  },
  {
   "cell_type": "markdown",
   "id": "d874e029",
   "metadata": {
    "papermill": {
     "duration": 0.015409,
     "end_time": "2023-06-19T23:00:49.937972",
     "exception": false,
     "start_time": "2023-06-19T23:00:49.922563",
     "status": "completed"
    },
    "tags": []
   },
   "source": [
    "![](https://media.istockphoto.com/id/1310455429/photo/notes-thank-you-coffee-cup-laptop-bouquet-of-flowers-lily-of-the-valley-on-desk-workplace-in.jpg?s=612x612&w=0&k=20&c=joo26DZGDAGU2yJIjrBOXwgh9MmFl5rrykpLCRzseZk=)"
   ]
  }
 ],
 "metadata": {
  "kernelspec": {
   "display_name": "Python 3",
   "language": "python",
   "name": "python3"
  },
  "language_info": {
   "codemirror_mode": {
    "name": "ipython",
    "version": 3
   },
   "file_extension": ".py",
   "mimetype": "text/x-python",
   "name": "python",
   "nbconvert_exporter": "python",
   "pygments_lexer": "ipython3",
   "version": "3.10.10"
  },
  "papermill": {
   "default_parameters": {},
   "duration": 28.830345,
   "end_time": "2023-06-19T23:00:50.976894",
   "environment_variables": {},
   "exception": null,
   "input_path": "__notebook__.ipynb",
   "output_path": "__notebook__.ipynb",
   "parameters": {},
   "start_time": "2023-06-19T23:00:22.146549",
   "version": "2.4.0"
  }
 },
 "nbformat": 4,
 "nbformat_minor": 5
}
